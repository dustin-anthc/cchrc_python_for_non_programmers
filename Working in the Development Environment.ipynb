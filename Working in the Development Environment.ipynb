{
 "cells": [
  {
   "cell_type": "markdown",
   "metadata": {
    "deletable": true,
    "editable": true
   },
   "source": [
    "# Setting up the Python / Pandas Programming Environment"
   ]
  },
  {
   "cell_type": "markdown",
   "metadata": {
    "deletable": true,
    "editable": true
   },
   "source": [
    "## Step 1: Download and Install Anaconda"
   ]
  },
  {
   "cell_type": "markdown",
   "metadata": {
    "deletable": true,
    "editable": true
   },
   "source": [
    "- ### [Windows download site](https://www.anaconda.com/download/) \n",
    "    - #### Install Python 3.6 (probably 64 bit)\n",
    "- ### [Installation instructions](https://conda.io/docs/user-guide/install/windows.html)"
   ]
  },
  {
   "cell_type": "markdown",
   "metadata": {
    "deletable": true,
    "editable": true
   },
   "source": [
    "___\n",
    "## Step 2: Figure out how to open up a command line dialog box"
   ]
  },
  {
   "cell_type": "markdown",
   "metadata": {
    "deletable": true,
    "editable": true
   },
   "source": [
    "- ### In the Start Menu search bar type \"cmd.exe\" and click the program\n",
    "- ### Alternatively, type \"Windows PowerShell\" in the Start Menu search bar and open that"
   ]
  },
  {
   "cell_type": "markdown",
   "metadata": {
    "deletable": true,
    "editable": true
   },
   "source": [
    "___\n",
    "## Step 3: Update Anaconda to ensure it is the latest version "
   ]
  },
  {
   "cell_type": "markdown",
   "metadata": {
    "deletable": true,
    "editable": true
   },
   "source": [
    "- ### Go to your command line dialog box\n",
    "- ### Make sure you are in the correct directory\n",
    "    - #### A short [tutorial](https://learnpythonthehardway.org/book/appendixa.html) on navigating using the command line (Only exercises 1-6 are relevant for now)\n",
    "- ### Type: \n",
    "```python\n",
    "conda update conda\n",
    "```"
   ]
  },
  {
   "cell_type": "markdown",
   "metadata": {
    "deletable": true,
    "editable": true
   },
   "source": [
    "![Conda Update Conda](https://drive.google.com/uc?id=1xPSMnDlqT-ola-RvNWReGzGHSKSeRFte)"
   ]
  },
  {
   "cell_type": "markdown",
   "metadata": {
    "deletable": true,
    "editable": true
   },
   "source": [
    "## What the heck did I just install?"
   ]
  },
  {
   "cell_type": "markdown",
   "metadata": {
    "deletable": true,
    "editable": true
   },
   "source": [
    "- ## Anaconda is a \"distribution package\"-- basically, an easy way to install the following things that we need:\n",
    "    - ### Python 3: The latest version\n",
    "    - ### Jupyter Notebook: The web-based development environment that we will use (this is a Jupyter notebook)\n",
    "    - ### Open-source libraries! Over 400 of them, including ones that we will use:\n",
    "        - ### Pandas (Super Excel)\n",
    "        - ### Numpy (Fast matrix operations and linear algebra)\n",
    "        - ### Matplotlib (Matlab-like graphing library)\n",
    "        - ### Statsmodels (statistical library)\n",
    "    - ### And libraries that are useful, but that we probably won't learn in this tutorial:\n",
    "        - ### Django / flask - web development\n",
    "        - ### beautifulsoup - web-scraping\n",
    "        - ### lxml - XML processing\n",
    "        - ### Other graphing tools: plotly, bokeh, seaborn \n",
    "        - ### scikit-learn: machine learning and data science tool\n",
    "        - ### requests: tool to get data from APIs"
   ]
  },
  {
   "cell_type": "markdown",
   "metadata": {
    "deletable": true,
    "editable": true
   },
   "source": [
    "___\n",
    "## Step 4: Let's open Jupyter Notebooks and Create a New Python Notebook"
   ]
  },
  {
   "cell_type": "markdown",
   "metadata": {
    "deletable": true,
    "editable": true
   },
   "source": [
    "- ### Open a commmand line dialog box\n",
    "- ### Type:\n",
    "```python\n",
    "jupyter notebook\n",
    "```"
   ]
  },
  {
   "cell_type": "markdown",
   "metadata": {
    "deletable": true,
    "editable": true
   },
   "source": [
    "![Command Line](https://drive.google.com/uc?id=1b6zW9k0Ux84bT8pQn3P52R1RtWW9_VxZ)"
   ]
  },
  {
   "cell_type": "markdown",
   "metadata": {
    "deletable": true,
    "editable": true
   },
   "source": [
    "## A screen that looks something like this should pop-up in your browser:"
   ]
  },
  {
   "cell_type": "markdown",
   "metadata": {
    "deletable": true,
    "editable": true
   },
   "source": [
    "![Jupyter Notebook Screenshot](https://drive.google.com/uc?id=12ktJUL9YaOMIKxTSGre9GgchPTMMg4jy)"
   ]
  },
  {
   "cell_type": "markdown",
   "metadata": {
    "deletable": true,
    "editable": true
   },
   "source": [
    "## Create a new folder titled \"My Python Training\", where you will store all your notebooks for this course"
   ]
  },
  {
   "cell_type": "markdown",
   "metadata": {
    "deletable": true,
    "editable": true
   },
   "source": [
    "![New Folder](https://drive.google.com/uc?id=1DyiWxn3f9VxMrnLvU_cTc9KMb-1oFDmY)"
   ]
  },
  {
   "cell_type": "markdown",
   "metadata": {
    "deletable": true,
    "editable": true
   },
   "source": [
    "## Navigate to \"My Python Training\" in the Jupyter Notebook Interface"
   ]
  },
  {
   "cell_type": "markdown",
   "metadata": {
    "deletable": true,
    "editable": true
   },
   "source": [
    "## Create a New Jupyter Notebook that Uses Python 3"
   ]
  },
  {
   "cell_type": "markdown",
   "metadata": {
    "deletable": true,
    "editable": true
   },
   "source": [
    "![Create New Notebook](https://drive.google.com/uc?id=1qJwdnS_CWg8hGc7aCkvHBAiawMXfaw1o)"
   ]
  },
  {
   "cell_type": "markdown",
   "metadata": {
    "deletable": true,
    "editable": true
   },
   "source": [
    "## Rename the file"
   ]
  },
  {
   "cell_type": "markdown",
   "metadata": {
    "deletable": true,
    "editable": true
   },
   "source": [
    "![Rename the File](https://drive.google.com/uc?id=1Y6jOa-F0zO2Bh7rM2IDBUaPrJTIbJGsA)"
   ]
  },
  {
   "cell_type": "markdown",
   "metadata": {
    "deletable": true,
    "editable": true
   },
   "source": [
    "## Import libraries that we will use each time\n",
    "- ### Important hotkey: ```Shift + Enter```\n",
    "- ### Two ways to tell if the script is working"
   ]
  },
  {
   "cell_type": "markdown",
   "metadata": {
    "deletable": true,
    "editable": true
   },
   "source": [
    "![Import Libraries](https://drive.google.com/uc?id=18TZpbi_LJjl5mrF5UXZOtlqU4Gk7FPJn)"
   ]
  },
  {
   "cell_type": "code",
   "execution_count": 7,
   "metadata": {
    "collapsed": true,
    "deletable": true,
    "editable": true
   },
   "outputs": [],
   "source": [
    "# Import pandas and name it 'pd'\n",
    "import pandas as pd\n",
    "\n",
    "# Import numpy for math procedures and name it 'np'\n",
    "import numpy as np\n",
    "\n",
    "# Import the python plotting library from matplotlib and name it 'plt'\n",
    "import matplotlib.pyplot as plt\n",
    "\n",
    "# This let's us plot things directly in the Notebook\n",
    "%matplotlib inline"
   ]
  },
  {
   "cell_type": "markdown",
   "metadata": {
    "deletable": true,
    "editable": true
   },
   "source": [
    "## Annotate Notebook Using Markdown"
   ]
  },
  {
   "cell_type": "markdown",
   "metadata": {
    "deletable": true,
    "editable": true
   },
   "source": [
    "![Markdown Example](https://drive.google.com/uc?id=1Yp_wLMNmpa2p2UlXWVew-cwocFLhn6xf)"
   ]
  },
  {
   "cell_type": "markdown",
   "metadata": {
    "deletable": true,
    "editable": true
   },
   "source": [
    "### 1. Change cell type to \"Markdown\"\n",
    "### 2. Use '# ' symbols for headers\n",
    "### 3. Use '- ' for bulleted lists\n",
    "### 4. Use '1. ' for ordered lists"
   ]
  },
  {
   "cell_type": "markdown",
   "metadata": {
    "deletable": true,
    "editable": true
   },
   "source": [
    "## Get the .csv file from the shared_python_training_materials folder. \n",
    " - ### Download it to the \"My Python Training\" folder you created earlier"
   ]
  },
  {
   "cell_type": "markdown",
   "metadata": {
    "deletable": true,
    "editable": true
   },
   "source": [
    "## ***Pro-Tip***:\n",
    "- ## Hold ```Shift``` while right-clicking on the file you want\n",
    "- ## Click ```Copy as Path```\n",
    "- ## Paste into Jupyter Notebook"
   ]
  },
  {
   "cell_type": "markdown",
   "metadata": {
    "deletable": true,
    "editable": true
   },
   "source": [
    "![Copy as Path](https://drive.google.com/uc?id=1e156k96-EuPpmuxxQyB6FRf76eSvrgUB)"
   ]
  },
  {
   "cell_type": "code",
   "execution_count": 8,
   "metadata": {
    "collapsed": false,
    "deletable": true,
    "editable": true
   },
   "outputs": [],
   "source": [
    "# We are going to import a csv file (in this case, basically an Excel file) as a Pandas Dataframe,\n",
    "# which is basically like a mini-excel file stored in memory.  We will name this Excel-like file in memory 'pce'\n",
    "# 'pd' accesses the pandas library.  '.read_csv' is the function to read in a given .csv file.  \n",
    "# The pathname is from your computer, and the 'r' is needed to ignore the spaces and slashes in the filename\n",
    "\n",
    "# To run this on your own computer, you'll need to replace everything between the quotes (don't delete the 'r' beforehand)\n",
    "pce = pd.read_csv(r\"C:\\Users\\dustin\\Google Drive\\Python Training\\shared_python_training_materials\\power-cost-equalization-pce-data.csv\")"
   ]
  },
  {
   "cell_type": "code",
   "execution_count": 9,
   "metadata": {
    "collapsed": false,
    "deletable": true,
    "editable": true
   },
   "outputs": [
    {
     "data": {
      "text/html": [
       "<div>\n",
       "<style>\n",
       "    .dataframe thead tr:only-child th {\n",
       "        text-align: right;\n",
       "    }\n",
       "\n",
       "    .dataframe thead th {\n",
       "        text-align: left;\n",
       "    }\n",
       "\n",
       "    .dataframe tbody tr th {\n",
       "        vertical-align: top;\n",
       "    }\n",
       "</style>\n",
       "<table border=\"1\" class=\"dataframe\">\n",
       "  <thead>\n",
       "    <tr style=\"text-align: right;\">\n",
       "      <th></th>\n",
       "      <th>pce_id</th>\n",
       "      <th>community_names</th>\n",
       "      <th>year</th>\n",
       "      <th>month</th>\n",
       "      <th>season</th>\n",
       "      <th>utility_acronym</th>\n",
       "      <th>intertied</th>\n",
       "      <th>residential_rate</th>\n",
       "      <th>pce_rate</th>\n",
       "      <th>pro_rata_rate</th>\n",
       "      <th>...</th>\n",
       "      <th>imputed_community_kwh_sold</th>\n",
       "      <th>imputed_government_kwh_sold</th>\n",
       "      <th>imputed_unbilled_kwh</th>\n",
       "      <th>imputed_sales_for_resale_kwh_sold</th>\n",
       "      <th>imputed_residential_customers</th>\n",
       "      <th>imputed_commercial_customers</th>\n",
       "      <th>imputed_community_customers</th>\n",
       "      <th>imputed_government_customers</th>\n",
       "      <th>imputed_unbilled_customers</th>\n",
       "      <th>imputed_other_customers</th>\n",
       "    </tr>\n",
       "  </thead>\n",
       "  <tbody>\n",
       "    <tr>\n",
       "      <th>0</th>\n",
       "      <td>331005</td>\n",
       "      <td>Adak</td>\n",
       "      <td>2008</td>\n",
       "      <td>7</td>\n",
       "      <td>summer</td>\n",
       "      <td>NaN</td>\n",
       "      <td>0.0</td>\n",
       "      <td>NaN</td>\n",
       "      <td>NaN</td>\n",
       "      <td>NaN</td>\n",
       "      <td>...</td>\n",
       "      <td>1.0</td>\n",
       "      <td>1.0</td>\n",
       "      <td>1.0</td>\n",
       "      <td>NaN</td>\n",
       "      <td>1.0</td>\n",
       "      <td>1.0</td>\n",
       "      <td>1.0</td>\n",
       "      <td>1.0</td>\n",
       "      <td>1.0</td>\n",
       "      <td>1.0</td>\n",
       "    </tr>\n",
       "    <tr>\n",
       "      <th>1</th>\n",
       "      <td>331005</td>\n",
       "      <td>Adak</td>\n",
       "      <td>2008</td>\n",
       "      <td>8</td>\n",
       "      <td>summer</td>\n",
       "      <td>NaN</td>\n",
       "      <td>0.0</td>\n",
       "      <td>NaN</td>\n",
       "      <td>NaN</td>\n",
       "      <td>NaN</td>\n",
       "      <td>...</td>\n",
       "      <td>1.0</td>\n",
       "      <td>1.0</td>\n",
       "      <td>1.0</td>\n",
       "      <td>NaN</td>\n",
       "      <td>1.0</td>\n",
       "      <td>1.0</td>\n",
       "      <td>1.0</td>\n",
       "      <td>1.0</td>\n",
       "      <td>1.0</td>\n",
       "      <td>1.0</td>\n",
       "    </tr>\n",
       "    <tr>\n",
       "      <th>2</th>\n",
       "      <td>331005</td>\n",
       "      <td>Adak</td>\n",
       "      <td>2008</td>\n",
       "      <td>9</td>\n",
       "      <td>summer</td>\n",
       "      <td>NaN</td>\n",
       "      <td>0.0</td>\n",
       "      <td>NaN</td>\n",
       "      <td>NaN</td>\n",
       "      <td>NaN</td>\n",
       "      <td>...</td>\n",
       "      <td>1.0</td>\n",
       "      <td>1.0</td>\n",
       "      <td>1.0</td>\n",
       "      <td>NaN</td>\n",
       "      <td>1.0</td>\n",
       "      <td>1.0</td>\n",
       "      <td>1.0</td>\n",
       "      <td>1.0</td>\n",
       "      <td>1.0</td>\n",
       "      <td>1.0</td>\n",
       "    </tr>\n",
       "    <tr>\n",
       "      <th>3</th>\n",
       "      <td>331005</td>\n",
       "      <td>Adak</td>\n",
       "      <td>2008</td>\n",
       "      <td>10</td>\n",
       "      <td>winter</td>\n",
       "      <td>NaN</td>\n",
       "      <td>0.0</td>\n",
       "      <td>NaN</td>\n",
       "      <td>NaN</td>\n",
       "      <td>NaN</td>\n",
       "      <td>...</td>\n",
       "      <td>1.0</td>\n",
       "      <td>1.0</td>\n",
       "      <td>1.0</td>\n",
       "      <td>NaN</td>\n",
       "      <td>1.0</td>\n",
       "      <td>1.0</td>\n",
       "      <td>1.0</td>\n",
       "      <td>1.0</td>\n",
       "      <td>1.0</td>\n",
       "      <td>1.0</td>\n",
       "    </tr>\n",
       "    <tr>\n",
       "      <th>4</th>\n",
       "      <td>331005</td>\n",
       "      <td>Adak</td>\n",
       "      <td>2008</td>\n",
       "      <td>11</td>\n",
       "      <td>winter</td>\n",
       "      <td>NaN</td>\n",
       "      <td>0.0</td>\n",
       "      <td>NaN</td>\n",
       "      <td>NaN</td>\n",
       "      <td>NaN</td>\n",
       "      <td>...</td>\n",
       "      <td>1.0</td>\n",
       "      <td>1.0</td>\n",
       "      <td>1.0</td>\n",
       "      <td>NaN</td>\n",
       "      <td>1.0</td>\n",
       "      <td>1.0</td>\n",
       "      <td>1.0</td>\n",
       "      <td>1.0</td>\n",
       "      <td>1.0</td>\n",
       "      <td>1.0</td>\n",
       "    </tr>\n",
       "  </tbody>\n",
       "</table>\n",
       "<p>5 rows × 62 columns</p>\n",
       "</div>"
      ],
      "text/plain": [
       "   pce_id community_names  year  month  season utility_acronym  intertied  \\\n",
       "0  331005            Adak  2008      7  summer             NaN        0.0   \n",
       "1  331005            Adak  2008      8  summer             NaN        0.0   \n",
       "2  331005            Adak  2008      9  summer             NaN        0.0   \n",
       "3  331005            Adak  2008     10  winter             NaN        0.0   \n",
       "4  331005            Adak  2008     11  winter             NaN        0.0   \n",
       "\n",
       "   residential_rate  pce_rate  pro_rata_rate           ...             \\\n",
       "0               NaN       NaN            NaN           ...              \n",
       "1               NaN       NaN            NaN           ...              \n",
       "2               NaN       NaN            NaN           ...              \n",
       "3               NaN       NaN            NaN           ...              \n",
       "4               NaN       NaN            NaN           ...              \n",
       "\n",
       "   imputed_community_kwh_sold  imputed_government_kwh_sold  \\\n",
       "0                         1.0                          1.0   \n",
       "1                         1.0                          1.0   \n",
       "2                         1.0                          1.0   \n",
       "3                         1.0                          1.0   \n",
       "4                         1.0                          1.0   \n",
       "\n",
       "   imputed_unbilled_kwh  imputed_sales_for_resale_kwh_sold  \\\n",
       "0                   1.0                                NaN   \n",
       "1                   1.0                                NaN   \n",
       "2                   1.0                                NaN   \n",
       "3                   1.0                                NaN   \n",
       "4                   1.0                                NaN   \n",
       "\n",
       "   imputed_residential_customers  imputed_commercial_customers  \\\n",
       "0                            1.0                           1.0   \n",
       "1                            1.0                           1.0   \n",
       "2                            1.0                           1.0   \n",
       "3                            1.0                           1.0   \n",
       "4                            1.0                           1.0   \n",
       "\n",
       "   imputed_community_customers  imputed_government_customers  \\\n",
       "0                          1.0                           1.0   \n",
       "1                          1.0                           1.0   \n",
       "2                          1.0                           1.0   \n",
       "3                          1.0                           1.0   \n",
       "4                          1.0                           1.0   \n",
       "\n",
       "   imputed_unbilled_customers  imputed_other_customers  \n",
       "0                         1.0                      1.0  \n",
       "1                         1.0                      1.0  \n",
       "2                         1.0                      1.0  \n",
       "3                         1.0                      1.0  \n",
       "4                         1.0                      1.0  \n",
       "\n",
       "[5 rows x 62 columns]"
      ]
     },
     "execution_count": 9,
     "metadata": {},
     "output_type": "execute_result"
    }
   ],
   "source": [
    "# The .head() function is a function that is available for Pandas DataFrames.  It let's us look\n",
    "# at the first five rows in the data.  Let's check to make sure the column headers look reasonable\n",
    "pce.head()"
   ]
  },
  {
   "cell_type": "code",
   "execution_count": null,
   "metadata": {
    "collapsed": true
   },
   "outputs": [],
   "source": [
    "# A Pandas Dataframe has column names, an index, which is like a key with one value for each row, and data.\n",
    "# If data is missing from a particular cell it is represented by NaN"
   ]
  },
  {
   "cell_type": "code",
   "execution_count": 10,
   "metadata": {
    "collapsed": false,
    "deletable": true,
    "editable": true
   },
   "outputs": [
    {
     "name": "stdout",
     "output_type": "stream",
     "text": [
      "25530\n"
     ]
    }
   ],
   "source": [
    "# How big is the dataset?\n",
    "# We can use the .shape function of a Pandas Dataframe to look at the size\n",
    "print (pce.shape[0])"
   ]
  },
  {
   "cell_type": "markdown",
   "metadata": {
    "deletable": true,
    "editable": true
   },
   "source": [
    "## Use ```Tab``` to auto-complete in Jupyter Notebooks"
   ]
  },
  {
   "cell_type": "code",
   "execution_count": 11,
   "metadata": {
    "collapsed": false,
    "deletable": true,
    "editable": true
   },
   "outputs": [
    {
     "data": {
      "text/plain": [
       "0           Adak\n",
       "1           Adak\n",
       "2           Adak\n",
       "3           Adak\n",
       "4           Adak\n",
       "5           Adak\n",
       "6           Adak\n",
       "7           Adak\n",
       "8           Adak\n",
       "9           Adak\n",
       "10          Adak\n",
       "11          Adak\n",
       "12          Adak\n",
       "13          Adak\n",
       "14          Adak\n",
       "15          Adak\n",
       "16          Adak\n",
       "17          Adak\n",
       "18          Adak\n",
       "19          Adak\n",
       "20          Adak\n",
       "21          Adak\n",
       "22          Adak\n",
       "23          Adak\n",
       "24          Adak\n",
       "25          Adak\n",
       "26          Adak\n",
       "27          Adak\n",
       "28          Adak\n",
       "29          Adak\n",
       "          ...   \n",
       "25500    Yakutat\n",
       "25501    Yakutat\n",
       "25502    Yakutat\n",
       "25503    Yakutat\n",
       "25504    Yakutat\n",
       "25505    Yakutat\n",
       "25506    Yakutat\n",
       "25507    Yakutat\n",
       "25508    Yakutat\n",
       "25509    Yakutat\n",
       "25510    Yakutat\n",
       "25511    Yakutat\n",
       "25512    Yakutat\n",
       "25513    Yakutat\n",
       "25514    Yakutat\n",
       "25515    Yakutat\n",
       "25516    Yakutat\n",
       "25517    Yakutat\n",
       "25518    Yakutat\n",
       "25519    Yakutat\n",
       "25520    Yakutat\n",
       "25521    Yakutat\n",
       "25522    Yakutat\n",
       "25523    Yakutat\n",
       "25524    Yakutat\n",
       "25525    Yakutat\n",
       "25526    Yakutat\n",
       "25527    Yakutat\n",
       "25528    Yakutat\n",
       "25529    Yakutat\n",
       "Name: community_names, Length: 25530, dtype: object"
      ]
     },
     "execution_count": 11,
     "metadata": {},
     "output_type": "execute_result"
    }
   ],
   "source": [
    "# If you hit the 'tab' button, it will auto-complete things for you.  \n",
    "# For example, if you want to look at a particular column in a DataFrame, you can access it by typing '.' and \n",
    "# then typing in your column name. Hitting tab halfway through will help you finish it.\n",
    "pce.community_names"
   ]
  },
  {
   "cell_type": "markdown",
   "metadata": {
    "deletable": true,
    "editable": true
   },
   "source": [
    "## Discussion of naming variables\n",
    "   - ### Name your variables for when you come back to this in a year\n",
    "      - #### The better the names, the less you have to comment\n",
    "   - ### Can't use spaces (use underscores instead)\n",
    "   - ### Can't start with a number\n",
    "   - ### When in doubt, be descriptive and use tab to auto-complete\n",
    "   "
   ]
  },
  {
   "cell_type": "code",
   "execution_count": 12,
   "metadata": {
    "collapsed": false,
    "deletable": true,
    "editable": true
   },
   "outputs": [
    {
     "data": {
      "text/plain": [
       "array(['Adak', 'Akhiok', 'Akiachak', 'Akiak', 'Akutan', 'Alakanuk',\n",
       "       'Allakaket, Alatna', 'Ambler', 'Anaktuvuk Pass', 'Angoon', 'Aniak',\n",
       "       'Anvik', 'Arctic Village', 'Atka', 'Atmautluak', 'Atqasuk',\n",
       "       'Beaver', 'Bethel, Oscarville', 'Bettles, Evansville',\n",
       "       'Brevig Mission', 'Buckland', 'Central', 'Chalkyitsik', 'Chefornak',\n",
       "       'Chenega Bay', 'Chevak', 'Chignik', 'Chignik Lagoon',\n",
       "       'Chignik Lake', 'Chilkat Valley', 'Chistochina', 'Chitina',\n",
       "       'Chuathbaluk', 'Circle', 'Coffman Cove', 'Cold Bay',\n",
       "       'Cordova, Eyak', 'Craig', 'Craig, Klawock', 'Crooked Creek',\n",
       "       'Deering', 'Dillingham, Aleknagik', 'Diomede',\n",
       "       'Dot Lake, Dot Lake Village', 'Eagle, Eagle Village', 'Eek',\n",
       "       'Egegik', 'Ekwok', 'Elfin Cove', 'Elim', 'Emmonak', 'False Pass',\n",
       "       'Fort Yukon', 'Galena', 'Gambell', 'Golovin', 'Goodnews Bay',\n",
       "       'Grayling', 'Gustavus', 'Haines, Covenant Life', 'Healy Lake',\n",
       "       'Hollis', 'Holy Cross', 'Hoonah', 'Hooper Bay', 'Hughes', 'Huslia',\n",
       "       'Hydaburg', 'Igiugig', 'Iliamna, Newhalen, Nondalton', 'Kake',\n",
       "       'Kaktovik', 'Kalskag', 'Kaltag', 'Karluk', 'Kasigluk', 'Kiana',\n",
       "       'King Cove', 'Kipnuk', 'Kivalina', 'Klawock', 'Klukwan', 'Kobuk',\n",
       "       'Kokhanok', 'Koliganek', 'Kongiganak', 'Kotlik', 'Kotzebue',\n",
       "       'Koyuk', 'Koyukuk', 'Kwethluk', 'Kwigillingok', 'Larsen Bay',\n",
       "       'Levelock', 'Lime Village', 'Lower Kalskag', 'Manley Hot Springs',\n",
       "       'Manokotak', 'Marshall', 'McGrath', 'Mekoryuk', 'Mentasta Lake',\n",
       "       'Minto', 'Mountain Village', 'Naknek, South Naknek, King Salmon',\n",
       "       'Napakiak', 'Napaskiak', 'Naukati Bay', 'Nelson Lagoon',\n",
       "       'New Stuyahok', 'Newtok', 'Nightmute', 'Nikolai', 'Nikolski',\n",
       "       'Noatak', 'Nome', 'Noorvik',\n",
       "       'Northway, Northway Village, Northway Junction', 'Nuiqsut',\n",
       "       'Nulato', 'Nunam Iqua', 'Nunapitchuk', 'Old Harbor', 'Ouzinkie',\n",
       "       'Pedro Bay', 'Pelican', 'Perryville', 'Pilot Point',\n",
       "       'Pilot Station', 'Pitkas Point', 'Platinum', 'Point Hope',\n",
       "       'Point Lay', 'Port Alsworth', 'Port Heiden', 'Quinhagak',\n",
       "       'Red Devil', 'Ruby', 'Russian Mission', 'Saint George',\n",
       "       \"Saint Mary's, Andreafsky\", 'Saint Michael', 'Saint Paul',\n",
       "       'Sand Point', 'Savoonga', 'Scammon Bay', 'Selawik', 'Shageluk',\n",
       "       'Shaktoolik', 'Shishmaref', 'Shungnak', 'Skagway', 'Slana',\n",
       "       'Sleetmute', 'Stebbins', 'Stevens Village', 'Stony River',\n",
       "       'Takotna', 'Tanana', 'Tatitlek', 'Teller', 'Tenakee Springs',\n",
       "       'Tetlin', 'Thorne Bay, Kasaan', 'Togiak', 'Toksook Bay',\n",
       "       'Tok, Tanacross', 'Tuluksak', 'Tuntutuliak', 'Tununak',\n",
       "       'Twin Hills', 'Unalakleet', 'Unalaska', 'Venetie', 'Wainwright',\n",
       "       'Wales', 'Whale Pass', 'White Mountain', 'Yakutat'], dtype=object)"
      ]
     },
     "execution_count": 12,
     "metadata": {},
     "output_type": "execute_result"
    }
   ],
   "source": [
    "# That's too big for right now.  Let's just look at one of the communities.\n",
    "# First I access the column I want to look at by typing '.community_names'\n",
    "# Then I access the '.unique()' function, which will tell me all of the unique values \n",
    "# that are in that column.\n",
    "pce.community_names.unique()"
   ]
  },
  {
   "cell_type": "code",
   "execution_count": 13,
   "metadata": {
    "collapsed": false,
    "deletable": true,
    "editable": true
   },
   "outputs": [
    {
     "data": {
      "text/html": [
       "<div>\n",
       "<style>\n",
       "    .dataframe thead tr:only-child th {\n",
       "        text-align: right;\n",
       "    }\n",
       "\n",
       "    .dataframe thead th {\n",
       "        text-align: left;\n",
       "    }\n",
       "\n",
       "    .dataframe tbody tr th {\n",
       "        vertical-align: top;\n",
       "    }\n",
       "</style>\n",
       "<table border=\"1\" class=\"dataframe\">\n",
       "  <thead>\n",
       "    <tr style=\"text-align: right;\">\n",
       "      <th></th>\n",
       "      <th>year</th>\n",
       "      <th>pce_id</th>\n",
       "      <th>month</th>\n",
       "      <th>intertied</th>\n",
       "      <th>residential_rate</th>\n",
       "      <th>pce_rate</th>\n",
       "      <th>pro_rata_rate</th>\n",
       "      <th>effective_rate</th>\n",
       "      <th>pce_eligible_residential_kwh</th>\n",
       "      <th>pce_eligible_commercial_kwh</th>\n",
       "      <th>...</th>\n",
       "      <th>imputed_community_kwh_sold</th>\n",
       "      <th>imputed_government_kwh_sold</th>\n",
       "      <th>imputed_unbilled_kwh</th>\n",
       "      <th>imputed_sales_for_resale_kwh_sold</th>\n",
       "      <th>imputed_residential_customers</th>\n",
       "      <th>imputed_commercial_customers</th>\n",
       "      <th>imputed_community_customers</th>\n",
       "      <th>imputed_government_customers</th>\n",
       "      <th>imputed_unbilled_customers</th>\n",
       "      <th>imputed_other_customers</th>\n",
       "    </tr>\n",
       "  </thead>\n",
       "  <tbody>\n",
       "    <tr>\n",
       "      <th>0</th>\n",
       "      <td>2001</td>\n",
       "      <td>331990.0</td>\n",
       "      <td>9.5</td>\n",
       "      <td>0.0</td>\n",
       "      <td>NaN</td>\n",
       "      <td>0.114600</td>\n",
       "      <td>0.105400</td>\n",
       "      <td>NaN</td>\n",
       "      <td>67762.833333</td>\n",
       "      <td>0.0</td>\n",
       "      <td>...</td>\n",
       "      <td>0.000000</td>\n",
       "      <td>0.000000</td>\n",
       "      <td>0.000000</td>\n",
       "      <td>NaN</td>\n",
       "      <td>0.000000</td>\n",
       "      <td>0.000000</td>\n",
       "      <td>0.000000</td>\n",
       "      <td>0.000000</td>\n",
       "      <td>0.000000</td>\n",
       "      <td>0.000000</td>\n",
       "    </tr>\n",
       "    <tr>\n",
       "      <th>1</th>\n",
       "      <td>2002</td>\n",
       "      <td>331990.0</td>\n",
       "      <td>6.5</td>\n",
       "      <td>0.0</td>\n",
       "      <td>0.270000</td>\n",
       "      <td>0.116100</td>\n",
       "      <td>0.096383</td>\n",
       "      <td>0.175350</td>\n",
       "      <td>61534.000000</td>\n",
       "      <td>0.0</td>\n",
       "      <td>...</td>\n",
       "      <td>0.166667</td>\n",
       "      <td>0.166667</td>\n",
       "      <td>0.166667</td>\n",
       "      <td>NaN</td>\n",
       "      <td>0.166667</td>\n",
       "      <td>0.166667</td>\n",
       "      <td>0.166667</td>\n",
       "      <td>0.166667</td>\n",
       "      <td>0.166667</td>\n",
       "      <td>0.166667</td>\n",
       "    </tr>\n",
       "    <tr>\n",
       "      <th>2</th>\n",
       "      <td>2003</td>\n",
       "      <td>331990.0</td>\n",
       "      <td>6.5</td>\n",
       "      <td>0.0</td>\n",
       "      <td>0.255833</td>\n",
       "      <td>0.118600</td>\n",
       "      <td>0.103558</td>\n",
       "      <td>0.154342</td>\n",
       "      <td>66278.800000</td>\n",
       "      <td>0.0</td>\n",
       "      <td>...</td>\n",
       "      <td>0.166667</td>\n",
       "      <td>0.166667</td>\n",
       "      <td>0.166667</td>\n",
       "      <td>NaN</td>\n",
       "      <td>0.166667</td>\n",
       "      <td>0.166667</td>\n",
       "      <td>0.166667</td>\n",
       "      <td>0.166667</td>\n",
       "      <td>0.166667</td>\n",
       "      <td>0.166667</td>\n",
       "    </tr>\n",
       "    <tr>\n",
       "      <th>3</th>\n",
       "      <td>2004</td>\n",
       "      <td>331990.0</td>\n",
       "      <td>6.5</td>\n",
       "      <td>0.0</td>\n",
       "      <td>0.272500</td>\n",
       "      <td>0.115975</td>\n",
       "      <td>0.081192</td>\n",
       "      <td>0.191308</td>\n",
       "      <td>63713.000000</td>\n",
       "      <td>0.0</td>\n",
       "      <td>...</td>\n",
       "      <td>0.333333</td>\n",
       "      <td>0.333333</td>\n",
       "      <td>0.333333</td>\n",
       "      <td>NaN</td>\n",
       "      <td>0.333333</td>\n",
       "      <td>0.333333</td>\n",
       "      <td>0.333333</td>\n",
       "      <td>0.333333</td>\n",
       "      <td>0.333333</td>\n",
       "      <td>0.333333</td>\n",
       "    </tr>\n",
       "    <tr>\n",
       "      <th>4</th>\n",
       "      <td>2005</td>\n",
       "      <td>331990.0</td>\n",
       "      <td>6.5</td>\n",
       "      <td>0.0</td>\n",
       "      <td>0.305000</td>\n",
       "      <td>0.120167</td>\n",
       "      <td>0.077258</td>\n",
       "      <td>0.227742</td>\n",
       "      <td>65513.000000</td>\n",
       "      <td>0.0</td>\n",
       "      <td>...</td>\n",
       "      <td>0.416667</td>\n",
       "      <td>0.416667</td>\n",
       "      <td>0.416667</td>\n",
       "      <td>NaN</td>\n",
       "      <td>0.416667</td>\n",
       "      <td>0.416667</td>\n",
       "      <td>0.416667</td>\n",
       "      <td>0.416667</td>\n",
       "      <td>0.416667</td>\n",
       "      <td>0.416667</td>\n",
       "    </tr>\n",
       "  </tbody>\n",
       "</table>\n",
       "<p>5 rows × 58 columns</p>\n",
       "</div>"
      ],
      "text/plain": [
       "   year    pce_id  month  intertied  residential_rate  pce_rate  \\\n",
       "0  2001  331990.0    9.5        0.0               NaN  0.114600   \n",
       "1  2002  331990.0    6.5        0.0          0.270000  0.116100   \n",
       "2  2003  331990.0    6.5        0.0          0.255833  0.118600   \n",
       "3  2004  331990.0    6.5        0.0          0.272500  0.115975   \n",
       "4  2005  331990.0    6.5        0.0          0.305000  0.120167   \n",
       "\n",
       "   pro_rata_rate  effective_rate  pce_eligible_residential_kwh  \\\n",
       "0       0.105400             NaN                  67762.833333   \n",
       "1       0.096383        0.175350                  61534.000000   \n",
       "2       0.103558        0.154342                  66278.800000   \n",
       "3       0.081192        0.191308                  63713.000000   \n",
       "4       0.077258        0.227742                  65513.000000   \n",
       "\n",
       "   pce_eligible_commercial_kwh           ...             \\\n",
       "0                          0.0           ...              \n",
       "1                          0.0           ...              \n",
       "2                          0.0           ...              \n",
       "3                          0.0           ...              \n",
       "4                          0.0           ...              \n",
       "\n",
       "   imputed_community_kwh_sold  imputed_government_kwh_sold  \\\n",
       "0                    0.000000                     0.000000   \n",
       "1                    0.166667                     0.166667   \n",
       "2                    0.166667                     0.166667   \n",
       "3                    0.333333                     0.333333   \n",
       "4                    0.416667                     0.416667   \n",
       "\n",
       "   imputed_unbilled_kwh  imputed_sales_for_resale_kwh_sold  \\\n",
       "0              0.000000                                NaN   \n",
       "1              0.166667                                NaN   \n",
       "2              0.166667                                NaN   \n",
       "3              0.333333                                NaN   \n",
       "4              0.416667                                NaN   \n",
       "\n",
       "   imputed_residential_customers  imputed_commercial_customers  \\\n",
       "0                       0.000000                      0.000000   \n",
       "1                       0.166667                      0.166667   \n",
       "2                       0.166667                      0.166667   \n",
       "3                       0.333333                      0.333333   \n",
       "4                       0.416667                      0.416667   \n",
       "\n",
       "   imputed_community_customers  imputed_government_customers  \\\n",
       "0                     0.000000                      0.000000   \n",
       "1                     0.166667                      0.166667   \n",
       "2                     0.166667                      0.166667   \n",
       "3                     0.333333                      0.333333   \n",
       "4                     0.416667                      0.416667   \n",
       "\n",
       "   imputed_unbilled_customers  imputed_other_customers  \n",
       "0                    0.000000                 0.000000  \n",
       "1                    0.166667                 0.166667  \n",
       "2                    0.166667                 0.166667  \n",
       "3                    0.333333                 0.333333  \n",
       "4                    0.416667                 0.416667  \n",
       "\n",
       "[5 rows x 58 columns]"
      ]
     },
     "execution_count": 13,
     "metadata": {},
     "output_type": "execute_result"
    }
   ],
   "source": [
    "# Probably should ignore this cell for now-- it is just some code to make the graphs more interesting.\n",
    "\n",
    "# From the unique function I saw that 'Galena' was one of the community names.  \n",
    "# We'll learn about the .query function later, but basically it allows us to just\n",
    "# choose the rows for Galena in this case\n",
    "galena = pce.query(\"community_names == 'Galena'\")\n",
    "galena.head()\n",
    "\n",
    "# We will learn about groupby later. For now, it allows us to group all of the values by year and get the average yearly values.\n",
    "yearly_galena = galena.groupby(['year']).mean()\n",
    "yearly_galena = yearly_galena.reset_index()\n",
    "yearly_galena.head()"
   ]
  },
  {
   "cell_type": "code",
   "execution_count": 14,
   "metadata": {
    "collapsed": false,
    "deletable": true,
    "editable": true
   },
   "outputs": [
    {
     "data": {
      "text/plain": [
       "['year',\n",
       " 'pce_id',\n",
       " 'month',\n",
       " 'intertied',\n",
       " 'residential_rate',\n",
       " 'pce_rate',\n",
       " 'pro_rata_rate',\n",
       " 'effective_rate',\n",
       " 'pce_eligible_residential_kwh',\n",
       " 'pce_eligible_commercial_kwh',\n",
       " 'pce_eligible_community_kwh',\n",
       " 'pce_eligible_total_kwh',\n",
       " 'disbursement',\n",
       " 'fuel_price',\n",
       " 'fuel_used_gal',\n",
       " 'fuel_cost',\n",
       " 'nonfuel_expenses',\n",
       " 'diesel_efficiency',\n",
       " 'diesel_kwh_generated',\n",
       " 'hydro_kwh_generated',\n",
       " 'peak_consumption_kw',\n",
       " 'residential_kwh_sold',\n",
       " 'commercial_kwh_sold',\n",
       " 'community_kwh_sold',\n",
       " 'government_kwh_sold',\n",
       " 'unbilled_kwh',\n",
       " 'sales_for_resale_kwh_sold',\n",
       " 'residential_customers',\n",
       " 'commercial_customers',\n",
       " 'community_customers',\n",
       " 'government_customers',\n",
       " 'unbilled_customers',\n",
       " 'other_customers',\n",
       " 'other_customers_description',\n",
       " 'imputed_residential_rate',\n",
       " 'imputed_pce_rate',\n",
       " 'imputed_pro_rata_rate',\n",
       " 'imputed_effective_rate',\n",
       " 'imputed_fuel_price',\n",
       " 'imputed_fuel_used_gal',\n",
       " 'imputed_fuel_cost',\n",
       " 'imputed_nonfuel_expenses',\n",
       " 'imputed_diesel_efficiency',\n",
       " 'imputed_diesel_kwh_generated',\n",
       " 'imputed_hydro_kwh_generated',\n",
       " 'imputed_peak_consumption_kw',\n",
       " 'imputed_residential_kwh_sold',\n",
       " 'imputed_commercial_kwh_sold',\n",
       " 'imputed_community_kwh_sold',\n",
       " 'imputed_government_kwh_sold',\n",
       " 'imputed_unbilled_kwh',\n",
       " 'imputed_sales_for_resale_kwh_sold',\n",
       " 'imputed_residential_customers',\n",
       " 'imputed_commercial_customers',\n",
       " 'imputed_community_customers',\n",
       " 'imputed_government_customers',\n",
       " 'imputed_unbilled_customers',\n",
       " 'imputed_other_customers']"
      ]
     },
     "execution_count": 14,
     "metadata": {},
     "output_type": "execute_result"
    }
   ],
   "source": [
    "# There are a lot of columns in this dataset-- let's print out a list of them so we can see what it looks like\n",
    "list(yearly_galena.columns.values)"
   ]
  },
  {
   "cell_type": "markdown",
   "metadata": {
    "deletable": true,
    "editable": true
   },
   "source": [
    "## Jupyter Notebooks has a built-in help feature!\n",
    "- ### Hold ```Shift + Tab``` and then hit ```Tab``` again to see what your options are"
   ]
  },
  {
   "cell_type": "code",
   "execution_count": 18,
   "metadata": {
    "collapsed": false,
    "deletable": true,
    "editable": true
   },
   "outputs": [
    {
     "data": {
      "text/plain": [
       "<matplotlib.axes._subplots.AxesSubplot at 0xb062ef0>"
      ]
     },
     "execution_count": 18,
     "metadata": {},
     "output_type": "execute_result"
    },
    {
     "data": {
      "image/png": "[encoded data removed]",
      "text/plain": [
       "<matplotlib.figure.Figure at 0x78284a8>"
      ]
     },
     "metadata": {},
     "output_type": "display_data"
    }
   ],
   "source": [
    "# Don't worry about the graphs-- this is mostly to teset out the shift + tab help feature in Pandas.\n",
    "# try it by clicking just after the open parenthesis '(' holding shift and hitting tab twice\n",
    "\n",
    "# histogram\n",
    "yearly_galena.residential_customers.plot.hist(bins=5)"
   ]
  },
  {
   "cell_type": "code",
   "execution_count": 16,
   "metadata": {
    "collapsed": false,
    "deletable": true,
    "editable": true
   },
   "outputs": [
    {
     "data": {
      "text/plain": [
       "<matplotlib.axes._subplots.AxesSubplot at 0x7836588>"
      ]
     },
     "execution_count": 16,
     "metadata": {},
     "output_type": "execute_result"
    },
    {
     "data": {
      "image/png": "[encoded data removed]",
      "text/plain": [
       "<matplotlib.figure.Figure at 0x7513780>"
      ]
     },
     "metadata": {},
     "output_type": "display_data"
    }
   ],
   "source": [
    "# Try to use the shift + tab help feature on this to see what it says.\n",
    "\n",
    "# Demo it here with plot.scatter\n",
    "yearly_galena.plot.scatter(x='year', y='residential_rate')"
   ]
  },
  {
   "cell_type": "markdown",
   "metadata": {
    "deletable": true,
    "editable": true
   },
   "source": [
    "## Some important commands in Notebooks:\n",
    "   - ### Cell\n",
    "      - #### Run all:  Let's you run all of the commands in the notebook at once\n",
    "      - #### Run all above: Runs all of the commands in the notebook above the cell that is currently highlighted.\n",
    "   - ### Kernel\n",
    "      - #### Restart kernel: Like hitting the reset button if there is a problem.  Clears everything in memory.\n",
    "      - #### Restart and run all\n",
    "   - ### Find and Replace\n",
    "      - ### `Esc + F`"
   ]
  },
  {
   "cell_type": "markdown",
   "metadata": {
    "deletable": true,
    "editable": true
   },
   "source": [
    "# Quick File Menu and Edit Menu Overview"
   ]
  },
  {
   "cell_type": "markdown",
   "metadata": {
    "collapsed": true,
    "deletable": true,
    "editable": true
   },
   "source": [
    "## Jupyter Notebook has \"Line Magic\""
   ]
  },
  {
   "cell_type": "code",
   "execution_count": 17,
   "metadata": {
    "collapsed": false,
    "deletable": true,
    "editable": true
   },
   "outputs": [
    {
     "name": "stdout",
     "output_type": "stream",
     "text": [
      "Wall time: 0 ns\n"
     ]
    }
   ],
   "source": [
    "# There are several useful features of Notebooks that can be accessed using  the % symbol.  Here are two:\n",
    "\n",
    "# This 'line magic' just allows us to see the graphs right in Jupyter Notebooks\n",
    "import matplotlib.pyplot as plt\n",
    "%matplotlib inline\n",
    "\n",
    "%time\n",
    "#This times how long it takes for a given cell to run.  This is especially important if you are running something \n",
    "#that takes a long time and you want to pinpoint why it's running so slowly"
   ]
  }
 ],
 "metadata": {
  "kernelspec": {
   "display_name": "Python 3",
   "language": "python",
   "name": "python3"
  },
  "language_info": {
   "codemirror_mode": {
    "name": "ipython",
    "version": 3
   },
   "file_extension": ".py",
   "mimetype": "text/x-python",
   "name": "python",
   "nbconvert_exporter": "python",
   "pygments_lexer": "ipython3",
   "version": "3.5.3"
  }
 },
 "nbformat": 4,
 "nbformat_minor": 2
}
